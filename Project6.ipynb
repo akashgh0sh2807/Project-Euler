{
  "nbformat": 4,
  "nbformat_minor": 0,
  "metadata": {
    "colab": {
      "name": "Project6",
      "provenance": [],
      "authorship_tag": "ABX9TyMUhfgCGlgBfCkHJz7RV3aG"
    },
    "kernelspec": {
      "name": "python3",
      "display_name": "Python 3"
    },
    "language_info": {
      "name": "python"
    }
  },
  "cells": [
    {
      "cell_type": "markdown",
      "metadata": {
        "id": "s_G70rN3d5N6"
      },
      "source": [
        "# Problem 6\n",
        "## Sum square difference"
      ]
    },
    {
      "cell_type": "markdown",
      "metadata": {
        "id": "n4sYOi1meHAm"
      },
      "source": [
        "## To do list\n",
        "* Create two variables to store the values of Sums square and elements squares sum.\n",
        "* Create a loop to add all the numbers from 1 to 100.\n",
        "* Create a loop to add all the squares of numbers from 1 to 100.\n",
        "* Find the difference between sums square and square of all elements sum.\n",
        "* Print the difference."
      ]
    },
    {
      "cell_type": "markdown",
      "metadata": {
        "id": "8j-vZ1xhfhry"
      },
      "source": [
        "## Creating variables\n",
        "Created two variables to save our values."
      ]
    },
    {
      "cell_type": "code",
      "metadata": {
        "id": "h4hAelP4MjtR"
      },
      "source": [
        "sums_square, each_elem_square = 0, 0"
      ],
      "execution_count": 1,
      "outputs": []
    },
    {
      "cell_type": "markdown",
      "metadata": {
        "id": "_yTRu0rtg8w5"
      },
      "source": [
        "## Sum of elements then square\n",
        "Created a loop to add all the no.'s from 1 to 100.\n"
      ]
    },
    {
      "cell_type": "code",
      "metadata": {
        "id": "_ad3RtOoh3Uu"
      },
      "source": [
        "for i in range(1, 101, 1):\n",
        "    sums_square += i"
      ],
      "execution_count": 2,
      "outputs": []
    },
    {
      "cell_type": "markdown",
      "metadata": {
        "id": "dZr3vQHlh_gF"
      },
      "source": [
        "## Square of each elements then sum\n",
        "Created a loop to add the square root of all the no.'s from 1 to 100."
      ]
    },
    {
      "cell_type": "code",
      "metadata": {
        "id": "my3Mq_foiVPi"
      },
      "source": [
        "for j in range(1, 101, 1):\n",
        "    each_elem_square += (j*j)"
      ],
      "execution_count": 3,
      "outputs": []
    },
    {
      "cell_type": "markdown",
      "metadata": {
        "id": "wWARAGGsiZGr"
      },
      "source": [
        "## Finding difference\n",
        "Calculating the difference."
      ]
    },
    {
      "cell_type": "code",
      "metadata": {
        "id": "TlXKrZQ4iouv"
      },
      "source": [
        "difference = (sums_square * sums_square) - each_elem_square"
      ],
      "execution_count": 4,
      "outputs": []
    },
    {
      "cell_type": "markdown",
      "metadata": {
        "id": "dD2Ce1ggispM"
      },
      "source": [
        "## Printing the difference\n",
        "Printing our output value."
      ]
    },
    {
      "cell_type": "code",
      "metadata": {
        "id": "V-h1nx3Ui6Hw"
      },
      "source": [
        "print(\"Difference between the square of sums and sum of squares is:\", difference)"
      ],
      "execution_count": null,
      "outputs": []
    }
  ]
}