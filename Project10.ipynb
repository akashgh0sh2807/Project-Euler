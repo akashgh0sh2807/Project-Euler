{
  "nbformat": 4,
  "nbformat_minor": 0,
  "metadata": {
    "colab": {
      "name": "Project10",
      "provenance": [],
      "authorship_tag": "ABX9TyMpjL8DWrJeyhEdBhtn4XT2"
    },
    "kernelspec": {
      "name": "python3",
      "display_name": "Python 3"
    },
    "language_info": {
      "name": "python"
    },
    "accelerator": "TPU"
  },
  "cells": [
    {
      "cell_type": "markdown",
      "metadata": {
        "id": "2CDpAHN40JKv"
      },
      "source": [
        "# Problem 10\n",
        "## Summation of primes"
      ]
    },
    {
      "cell_type": "markdown",
      "metadata": {
        "id": "uTGOcKJ-0JFW"
      },
      "source": [
        "## To do list\n",
        "* Import sympy.\n",
        "* Create a variable to store the sum.\n",
        "* Run a loop upto 2 million.\n",
        "* Print the sum."
      ]
    },
    {
      "cell_type": "markdown",
      "metadata": {
        "id": "Y6Q1GMr70J5j"
      },
      "source": [
        "## Importing sympy\n",
        "Importing our module sympy to check whether any number is prime or not."
      ]
    },
    {
      "cell_type": "code",
      "metadata": {
        "id": "j5viArWLz7Vo"
      },
      "source": [
        "import sympy as smp"
      ],
      "execution_count": 18,
      "outputs": []
    },
    {
      "cell_type": "markdown",
      "metadata": {
        "id": "-L3Iq26Cq4QY"
      },
      "source": [
        "## Creating variable\n",
        "Creating a variable to store the result of all summations. We already added 2 in it which is the only even prime number."
      ]
    },
    {
      "cell_type": "code",
      "metadata": {
        "id": "UL9yo8IArNMT"
      },
      "source": [
        "summation = 2"
      ],
      "execution_count": 19,
      "outputs": []
    },
    {
      "cell_type": "markdown",
      "metadata": {
        "id": "wsMd4xKPrRR2"
      },
      "source": [
        "## Looping till 2 million\n",
        "Running a loop till 2 million with a jump of 2 to ignore even numbers."
      ]
    },
    {
      "cell_type": "code",
      "metadata": {
        "id": "InSi_lBrryCe"
      },
      "source": [
        "for i in range(3, 2000000, 2):\n",
        "    if smp.isprime(i) == True:\n",
        "        summation += i"
      ],
      "execution_count": 20,
      "outputs": []
    },
    {
      "cell_type": "markdown",
      "metadata": {
        "id": "t51jRokwr2Mt"
      },
      "source": [
        "## Printing result\n",
        "Printing the final sum of summation after adding all primes upto 2 million."
      ]
    },
    {
      "cell_type": "code",
      "metadata": {
        "id": "hBEdKjmir2va"
      },
      "source": [
        "print(\"The sum of all the prime numbers upto 2 million is:\", summation)"
      ],
      "execution_count": null,
      "outputs": []
    }
  ]
}