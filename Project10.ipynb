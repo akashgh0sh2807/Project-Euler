{
  "nbformat": 4,
  "nbformat_minor": 0,
  "metadata": {
    "colab": {
      "name": "Project10",
      "provenance": [],
      "authorship_tag": "ABX9TyONgvWpRqaw16+YtWfqBT8X"
    },
    "kernelspec": {
      "name": "python3",
      "display_name": "Python 3"
    },
    "language_info": {
      "name": "python"
    },
    "accelerator": "TPU"
  },
  "cells": [
    {
      "cell_type": "markdown",
      "metadata": {
        "id": "2CDpAHN40JKv"
      },
      "source": [
        "# "
      ]
    },
    {
      "cell_type": "markdown",
      "metadata": {
        "id": "uTGOcKJ-0JFW"
      },
      "source": [
        ""
      ]
    },
    {
      "cell_type": "markdown",
      "metadata": {
        "id": "Y6Q1GMr70J5j"
      },
      "source": [
        ""
      ]
    },
    {
      "cell_type": "code",
      "metadata": {
        "id": "j5viArWLz7Vo"
      },
      "source": [
        "import sympy as smp\n",
        "\n",
        "summation = 2\n",
        "\n",
        "for i in range(3, 2000000, 2):\n",
        "    if smp.isprime(i) == True:\n",
        "        summation += i\n",
        "\n",
        "print(\"The sum of all the prime numbers upto 2 million is:\", summation)"
      ],
      "execution_count": null,
      "outputs": []
    }
  ]
}