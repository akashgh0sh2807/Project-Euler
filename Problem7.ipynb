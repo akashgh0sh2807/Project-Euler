{
  "nbformat": 4,
  "nbformat_minor": 0,
  "metadata": {
    "colab": {
      "name": "Problem7",
      "provenance": [],
      "collapsed_sections": [],
      "authorship_tag": "ABX9TyOTzHVBh09fwhDSh1x9gsAv"
    },
    "kernelspec": {
      "name": "python3",
      "display_name": "Python 3"
    },
    "language_info": {
      "name": "python"
    },
    "accelerator": "TPU"
  },
  "cells": [
    {
      "cell_type": "markdown",
      "metadata": {
        "id": "IEa1oMNmj0F7"
      },
      "source": [
        "# Problem 7\n",
        "## 10001st prime"
      ]
    },
    {
      "cell_type": "markdown",
      "metadata": {
        "id": "Se1LDWW8jzfe"
      },
      "source": [
        "# To do list\n",
        "* Create a function to check whether a number is prime or not.\n",
        "* Create a list.\n",
        "* Create a while loop.\n",
        "* Run it until the length of the list is 10001.\n",
        "* Print the 10001st term."
      ]
    },
    {
      "cell_type": "markdown",
      "metadata": {
        "id": "j349Tys3a1YK"
      },
      "source": [
        "## Prime list\n",
        "Created a list to store all 10001 prime numbers."
      ]
    },
    {
      "cell_type": "code",
      "metadata": {
        "id": "j4gdOjD0b6bS"
      },
      "source": [
        "primes = []"
      ],
      "execution_count": null,
      "outputs": []
    },
    {
      "cell_type": "markdown",
      "metadata": {
        "id": "DPDBtlUypRB0"
      },
      "source": [
        "## Prime checker function\n",
        "Function to check and add prime numbers in the list."
      ]
    },
    {
      "cell_type": "code",
      "metadata": {
        "id": "oYWfNXJZc87O"
      },
      "source": [
        "def prime_checker(number):\n",
        "    yes = 0\n",
        "    for i in range(2, number):\n",
        "        if number % i == 0:\n",
        "            yes += 1\n",
        "            break\n",
        "    if yes == 0:\n",
        "        primes.append(number)\n"
      ],
      "execution_count": null,
      "outputs": []
    },
    {
      "cell_type": "markdown",
      "metadata": {
        "id": "AzsmEE2gbG1s"
      },
      "source": [
        "## First number to check prime\n",
        "First number to check for prime, it is also the starting point of the loop."
      ]
    },
    {
      "cell_type": "code",
      "metadata": {
        "id": "xNXWbZusdX3X"
      },
      "source": [
        "num = 2"
      ],
      "execution_count": null,
      "outputs": []
    },
    {
      "cell_type": "markdown",
      "metadata": {
        "id": "iaLTRPb7buC8"
      },
      "source": [
        "## While loop\n",
        "Running a loop until we get 10001 prime numbers added in the list."
      ]
    },
    {
      "cell_type": "code",
      "metadata": {
        "id": "UJIYIkIUeViO"
      },
      "source": [
        "while len(primes) < 10001:\n",
        "    prime_checker(num)\n",
        "    num += 1\n"
      ],
      "execution_count": null,
      "outputs": []
    },
    {
      "cell_type": "markdown",
      "metadata": {
        "id": "O04ZNJ7xbzc9"
      },
      "source": [
        "## Printing the result\n",
        "Printing the 10001st prime number which is at the index of 10000 in our list."
      ]
    },
    {
      "cell_type": "code",
      "metadata": {
        "id": "lxsCOnoIel5H"
      },
      "source": [
        "print(\"The 10001st prime number is:\", primes[10000])"
      ],
      "execution_count": null,
      "outputs": []
    }
  ]
}