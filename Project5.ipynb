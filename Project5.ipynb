{
  "nbformat": 4,
  "nbformat_minor": 0,
  "metadata": {
    "colab": {
      "name": "Project5",
      "provenance": [],
      "authorship_tag": "ABX9TyORhxXpJNEXKKdzJoBYz32T"
    },
    "kernelspec": {
      "name": "python3",
      "display_name": "Python 3"
    },
    "language_info": {
      "name": "python"
    }
  },
  "cells": [
    {
      "cell_type": "markdown",
      "metadata": {
        "id": "Gc8JMa-qt-FI"
      },
      "source": [
        "# Project 5\n",
        "## Smallest multiple\n",
        "2520 is the smallest number that can be divided by each of the numbers from 1 to 10 without any remainder.\n",
        "\n",
        "What is the smallest positive number that is evenly divisible by all of the numbers from 1 to 20?"
      ]
    },
    {
      "cell_type": "markdown",
      "metadata": {
        "id": "R_xxUcKHvrl1"
      },
      "source": [
        "## To do list\n",
        "\n",
        "* Create a function to check divisibility from 11 to 20.\n",
        "* Give it a starting point.\n",
        "* Create a loop to run the function.\n",
        "* Printing the result.\n",
        "\n",
        "\n"
      ]
    },
    {
      "cell_type": "markdown",
      "metadata": {
        "id": "AZW9aF3Q4Jf7"
      },
      "source": [
        "## Divisibility checker\n",
        "Created a function to check if a number is divisible by 11 to 20."
      ]
    },
    {
      "cell_type": "code",
      "metadata": {
        "id": "jRjfYxpejXIy"
      },
      "source": [
        "def dividend(number):\n",
        "    for x in range(11, 21, 1):\n",
        "        if number % x != 0:\n",
        "            return False\n",
        "    return True"
      ],
      "execution_count": 5,
      "outputs": []
    },
    {
      "cell_type": "markdown",
      "metadata": {
        "id": "newXy1uY6QCw"
      },
      "source": [
        "## Starting point\n",
        "Created a value which is the smallest number divisible by all number from 1 to 10."
      ]
    },
    {
      "cell_type": "code",
      "metadata": {
        "id": "XfbDUu859_Ny"
      },
      "source": [
        "value = 2520"
      ],
      "execution_count": 6,
      "outputs": []
    },
    {
      "cell_type": "markdown",
      "metadata": {
        "id": "YhG5qzOL-XL8"
      },
      "source": [
        "## While loop\n",
        "Created a loop in which if function fails, then adds 20 in it."
      ]
    },
    {
      "cell_type": "code",
      "metadata": {
        "id": "_Orw3P7M_geS"
      },
      "source": [
        "while not dividend(value):\n",
        "    value += 20"
      ],
      "execution_count": 7,
      "outputs": []
    },
    {
      "cell_type": "markdown",
      "metadata": {
        "id": "bS1_cRd2_mDs"
      },
      "source": [
        "## Printing result\n",
        "Printing the smallest no. which is divisible by 1 to 20."
      ]
    },
    {
      "cell_type": "code",
      "metadata": {
        "colab": {
          "base_uri": "https://localhost:8080/"
        },
        "id": "TTA5nwzj_ykm",
        "outputId": "69ad93ab-a9b1-443e-8c00-91bbf8e93755"
      },
      "source": [
        "print(\"Smallest number which is divisible by all number from 1 to 20 is:\", value)"
      ],
      "execution_count": 8,
      "outputs": [
        {
          "output_type": "stream",
          "text": [
            "Smallest number which is divisible by all number from 1 to 20 is: 232792560\n"
          ],
          "name": "stdout"
        }
      ]
    }
  ]
}