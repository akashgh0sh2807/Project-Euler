{
  "nbformat": 4,
  "nbformat_minor": 0,
  "metadata": {
    "colab": {
      "name": "Project9",
      "provenance": [],
      "collapsed_sections": [],
      "authorship_tag": "ABX9TyPWnG1lMbLmBUienqPOVkdu"
    },
    "kernelspec": {
      "name": "python3",
      "display_name": "Python 3"
    },
    "language_info": {
      "name": "python"
    },
    "accelerator": "TPU"
  },
  "cells": [
    {
      "cell_type": "markdown",
      "metadata": {
        "id": "tViRdy5UJe6D"
      },
      "source": [
        "# Problem 9\n",
        "## Special Pythagorean triplet"
      ]
    },
    {
      "cell_type": "markdown",
      "metadata": {
        "id": "2s0Fx3Y_Jev3"
      },
      "source": [
        "## To do list\n",
        "* Create a variable to store result.\n",
        "* Run a loop till conditions get satisfied.\n",
        "* When conditions get satisfied multiply and store.\n",
        "* Printing the result."
      ]
    },
    {
      "cell_type": "markdown",
      "metadata": {
        "id": "qHX5STCRLLfb"
      },
      "source": [
        "## Creating a variable\n",
        "Creating a variable to store the product of a, b, and c."
      ]
    },
    {
      "cell_type": "code",
      "metadata": {
        "id": "MDU9nES6JX04"
      },
      "source": [
        "product_of_abc = 0"
      ],
      "execution_count": 8,
      "outputs": []
    },
    {
      "cell_type": "markdown",
      "metadata": {
        "id": "bW3Cvc3_Ll6k"
      },
      "source": [
        "## Running loop & applying conditions\n",
        "Creating a loop in loop in loop each to run 400 times and applying two conditions which are a < b < c and a + b + c = 1000 and square of c = square of a + b."
      ]
    },
    {
      "cell_type": "code",
      "metadata": {
        "id": "YB7EibMnMbJW"
      },
      "source": [
        "for a in range(1, 1000, 1):\n",
        "    for b in range(1, 1000, 1):\n",
        "        for c in range(1, 1000, 1):\n",
        "            if (a < b < c) and (a + b + c == 1000) and ((c * c) == ((a * a)+(b * b))):\n",
        "                product_of_abc = a * b * c\n",
        "                break"
      ],
      "execution_count": 24,
      "outputs": []
    },
    {
      "cell_type": "markdown",
      "metadata": {
        "id": "H-yIro-kMzwk"
      },
      "source": [
        "## Printing the result\n",
        "Printing our product of a, b, and c."
      ]
    },
    {
      "cell_type": "code",
      "metadata": {
        "id": "F6R_X59bNAx8"
      },
      "source": [
        "print(\"The product of a, b, and c is:\", product_of_abc)"
      ],
      "execution_count": null,
      "outputs": []
    }
  ]
}