{
  "nbformat": 4,
  "nbformat_minor": 0,
  "metadata": {
    "colab": {
      "name": "Project9",
      "provenance": [],
      "authorship_tag": "ABX9TyOE0y1eElY1pUQzyF52aveB"
    },
    "kernelspec": {
      "name": "python3",
      "display_name": "Python 3"
    },
    "language_info": {
      "name": "python"
    }
  },
  "cells": [
    {
      "cell_type": "markdown",
      "metadata": {
        "id": "tViRdy5UJe6D"
      },
      "source": [
        "# Problem 9\n",
        "## Special Pythagorean triplet"
      ]
    },
    {
      "cell_type": "markdown",
      "metadata": {
        "id": "2s0Fx3Y_Jev3"
      },
      "source": [
        "## To do list\n",
        "* Create a variable to store result.\n",
        "* Run a loop till conditions get satisfied.\n",
        "* When conditions get satisfied multiply and store.\n",
        "* Printing the result."
      ]
    },
    {
      "cell_type": "markdown",
      "metadata": {
        "id": "qHX5STCRLLfb"
      },
      "source": [
        "## Creating a variable\n",
        "Creating a variable to store the product of a, b, and c."
      ]
    },
    {
      "cell_type": "code",
      "metadata": {
        "id": "MDU9nES6JX04"
      },
      "source": [
        "product_of_abc = 0"
      ],
      "execution_count": 3,
      "outputs": []
    },
    {
      "cell_type": "markdown",
      "metadata": {
        "id": "bW3Cvc3_Ll6k"
      },
      "source": [
        "## Running loop & applying conditions\n",
        "Creating a loop in loop in loop each to run 400 times and applying two conditions which are a < b < c and a + b + c = 1000."
      ]
    },
    {
      "cell_type": "code",
      "metadata": {
        "id": "YB7EibMnMbJW"
      },
      "source": [
        "for a in range(1, 400, 1):\n",
        "    for b in range(1, 400, 1):\n",
        "        for c in range(1, 400, 1):\n",
        "            if (a < b < c) and (a + b + c == 1000):\n",
        "                product_of_abc = a * b * c"
      ],
      "execution_count": 6,
      "outputs": []
    },
    {
      "cell_type": "markdown",
      "metadata": {
        "id": "H-yIro-kMzwk"
      },
      "source": [
        "## Printing the result\n",
        "Printing our product of a, b, and c."
      ]
    },
    {
      "cell_type": "code",
      "metadata": {
        "colab": {
          "base_uri": "https://localhost:8080/"
        },
        "id": "F6R_X59bNAx8",
        "outputId": "56aff011-fe84-4d4f-91be-687d69077260"
      },
      "source": [
        "print(\"The product of a, b, and c is:\", product_of_abc)"
      ],
      "execution_count": 7,
      "outputs": [
        {
          "output_type": "stream",
          "text": [
            "The product of a, b, and c is: 37036260\n"
          ],
          "name": "stdout"
        }
      ]
    }
  ]
}